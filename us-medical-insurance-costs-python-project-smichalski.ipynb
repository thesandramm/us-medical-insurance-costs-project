{
 "cells": [
  {
   "cell_type": "markdown",
   "id": "3bb55732",
   "metadata": {},
   "source": [
    "# U.S Medical Insurance Costs Project\n",
    "\n",
    "In the United States, 36.5% of adults are obese and 32.5% of adults are overweight which totals two thirds of all adults\n",
    "Obesity is linked to more than 60 chronic diseases, such as:\n",
    "    - Type 2 diabetes\n",
    "    - Heart disease\n",
    "    - Stroke\n",
    "    - Cancer, etc.\n",
    "Obesity causes more deaths than being underweight. It is one of the top five leading causes of death at 2.8 million deaths a year. The other four leading causes are high blood pressure, tobacco use, high blood glucose, and physical inactivity.\n",
    "\n",
    "For adults, WHO defines overweight and obesity as follows:\n",
    "\n",
    "overweight is a BMI greater than or equal to 25; and\n",
    "obesity is a BMI greater than or equal to 30.\n",
    "\n",
    "** Information taken from WHO (https://www.who.int/news-room/fact-sheets/detail/obesity-and-overweight)\n",
    "\n",
    "Throughout this project, I will be exploring how BMI, among other factors such as age, gender, region, and smoker status, affects a patient's insurance cost. Since having a higher BMI increases the chances to develop health complications, we want to consider how to encourage our clients to develop a healthier lifestyle and thus reducing the chance of payments for treatment \n",
    "of diseases. \n",
    "\n",
    "Once we have anaylyzed the data, we can try to answer the question of how to improve the overweight situation."
   ]
  },
  {
   "cell_type": "code",
   "execution_count": 1,
   "id": "02e64e2b",
   "metadata": {},
   "outputs": [],
   "source": [
    "import csv\n",
    "\n",
    "age = []\n",
    "sex = []\n",
    "bmi = []\n",
    "num_children = []\n",
    "smoker = []\n",
    "region = []\n",
    "insurance_cost = []\n",
    "\n",
    "with open('insurance.csv', newline='') as insurance_csv:\n",
    "    data = csv.DictReader(insurance_csv)\n",
    "    for row in data:\n",
    "        age.append(row['age'])\n",
    "        sex.append(row['sex'])\n",
    "        bmi.append(row['bmi'])\n",
    "        num_children.append(row['children'])\n",
    "        smoker.append(row['smoker'])\n",
    "        region.append(row['region'])\n",
    "        insurance_cost.append(int(float(row['charges'])))        "
   ]
  },
  {
   "cell_type": "markdown",
   "id": "0fdfefc7",
   "metadata": {},
   "source": [
    "To start my project, I noticed in **insurance.csv** that there are seven columns per patient: Age, Sex, BMI, Number of Children, Smoker Status, Region, and Insurance Charges. \n",
    "\n",
    "I created seven empty lists to reflect those columns and imported the data into those seven lists.\n",
    "\n",
    "Now that my data is in organized lists, I will now analyze the following:\n",
    "* Geographical location of patients\n",
    "* Average age of patients\n",
    "* Percentage of men vs. women\n",
    "* Average BMI of men vs. women\n",
    "* Average smoker status in men vs. women\n",
    "* Average yearly medical charges per patient\n",
    "\n",
    "Below I created a class called Patients, and created methods to organize and interpret all the data such as: \n",
    "* `location() & average_location` (which later will be zipped into one list to see how many people come from each region)\n",
    "* `average_age()`\n",
    "* `men_vs_women()`\n",
    "* `gender_bmi_average()`\n",
    "* `smokers_gender()`\n",
    "* `average_insurance_cost()`\n"
   ]
  },
  {
   "cell_type": "code",
   "execution_count": 2,
   "id": "c833ea82",
   "metadata": {},
   "outputs": [],
   "source": [
    "class Patients:\n",
    "    \n",
    "    def __init__(self, patients_ages, patients_sexes, patients_bmis, patients_num_children, \n",
    "                 patients_smoker_statuses, patients_regions, patients_charges):\n",
    "        self.patients_ages = patients_ages\n",
    "        self.patients_sexes = patients_sexes\n",
    "        self.patients_bmis = patients_bmis\n",
    "        self.patients_num_children = patients_num_children\n",
    "        self.patients_smoker_statuses = patients_smoker_statuses\n",
    "        self.patients_regions = patients_regions\n",
    "        self.patients_charges = patients_charges\n",
    "        \n",
    "    def location(self):\n",
    "        regions = []\n",
    "        for region in self.patients_regions:\n",
    "            if region not in regions: \n",
    "                regions.append(region)\n",
    "        return regions\n",
    "\n",
    "    def average_location(self):\n",
    "        total = [0, 0, 0, 0]\n",
    "        for region in self.patients_regions:\n",
    "            if region == 'southwest':\n",
    "                total[0] += 1\n",
    "            elif region == 'southeast':\n",
    "                total[1] += 1\n",
    "            elif region == 'northwest':\n",
    "                total[2] += 1\n",
    "            elif region == 'northeast':\n",
    "                total[3] += 1\n",
    "        return total\n",
    "\n",
    "    def average_age(self):\n",
    "        total_age = 0\n",
    "        for age in self.patients_ages:\n",
    "            total_age += int(age)\n",
    "        return 'Average Patient Age: ' + str(round(total_age/len(self.patients_ages), 2)) + ' years old.'\n",
    "\n",
    "    def men_vs_women(self):\n",
    "        males = 0\n",
    "        females = 0\n",
    "        for sex in self.patients_sexes:\n",
    "            if sex == 'female':\n",
    "                females += 1\n",
    "            elif sex == 'male':\n",
    "                males += 1\n",
    "        print('Percentage of Female Patients: ' + str(females) + '(' + str(round(females/(females+males)*100)) + '%)')\n",
    "        print('Percentage of Male Patients: ' + str(males) + '(' + str(round(males/(females+males)*100)) + '%)')\n",
    "        \n",
    "    def gender_bmi_average(self):\n",
    "        female_bmi = 0\n",
    "        male_bmi = 0\n",
    "        femalelength = 0\n",
    "        malelength = 0\n",
    "        for gender, bmi in zip(self.patients_sexes, self.patients_bmis):\n",
    "            if gender == 'female':\n",
    "                female_bmi += float(bmi)\n",
    "                femalelength += 1\n",
    "            elif gender == 'male':\n",
    "                male_bmi += float(bmi)\n",
    "                malelength += 1\n",
    "        print('Average Female BMI: ' + str(round(female_bmi/femalelength, 2)))\n",
    "        print('Average Male BMI: ' + str(round(male_bmi/malelength, 2)))\n",
    "    \n",
    "    def smokers_gender(self):\n",
    "        fsmokers = 0\n",
    "        msmokers = 0\n",
    "        femalelength = 0\n",
    "        malelength = 0\n",
    "        for gender, smokers in zip(sex, smoker):\n",
    "            if (gender == 'female') and (smokers == 'yes'):\n",
    "                fsmokers += 1\n",
    "            elif (gender == 'male') and (smokers == 'yes'):\n",
    "                msmokers += 1  \n",
    "            elif gender == 'female':\n",
    "                femalelength += 1\n",
    "            elif gender == 'male':\n",
    "                malelength += 1\n",
    "        print('Female Smokers: ' + str(fsmokers) + '/' + str(femalelength+fsmokers) + '(' + str(round(fsmokers/(femalelength+fsmokers)*100)) + '%)')\n",
    "        print('Male Smokers: ' + str(msmokers) + '/' + str(malelength+msmokers) + '(' + str(round(msmokers/(malelength+msmokers)*100)) + '%)')\n",
    "    \n",
    "    \n",
    "    def average_insurance_cost(self):\n",
    "        average_cost = 0\n",
    "        for insurance in self.patients_charges:\n",
    "            average_cost += float(insurance)\n",
    "        print('Average Yearly Insurance Cost: $' + str(round(average_cost/len(self.patients_charges), 2)))"
   ]
  },
  {
   "cell_type": "markdown",
   "id": "b51e7e88",
   "metadata": {},
   "source": [
    "Next I created an instance for the class Patients called `patient_info` which I will use to see the results of my analysis."
   ]
  },
  {
   "cell_type": "code",
   "execution_count": 3,
   "id": "9e979d17",
   "metadata": {},
   "outputs": [],
   "source": [
    "patient_info = Patients(age, sex, bmi, num_children, smoker, region, insurance_cost)"
   ]
  },
  {
   "cell_type": "code",
   "execution_count": 4,
   "id": "b939a935",
   "metadata": {},
   "outputs": [
    {
     "name": "stdout",
     "output_type": "stream",
     "text": [
      "[('southwest', 325), ('southeast', 364), ('northwest', 325), ('northeast', 324)]\n"
     ]
    }
   ],
   "source": [
    "result = list(zip(patient_info.location(), patient_info.average_location()))\n",
    "zipped_list = result[:]\n",
    "zipped_list_2 = list(result)\n",
    "print(zipped_list_2)"
   ]
  },
  {
   "cell_type": "markdown",
   "id": "505dbae7",
   "metadata": {},
   "source": [
    "There are four geographical regions in this dataset, with a fairly even analysis from every region. (All from United States)"
   ]
  },
  {
   "cell_type": "code",
   "execution_count": 5,
   "id": "c9668c19",
   "metadata": {},
   "outputs": [
    {
     "name": "stdout",
     "output_type": "stream",
     "text": [
      "Average Patient Age: 39.21 years old.\n",
      "Minimum Age in Dataset: 18\n",
      "Maximum Age in Dataset: 64\n"
     ]
    }
   ],
   "source": [
    "print(patient_info.average_age())\n",
    "print (\"Minimum Age in Dataset: \" + min(age))\n",
    "print (\"Maximum Age in Dataset: \" + max(age))"
   ]
  },
  {
   "cell_type": "markdown",
   "id": "86d82a1f",
   "metadata": {},
   "source": [
    "Above you will see the average age in the dataset is 39 years old. When scoping through a dataset, it is important to make sure it is representative of a broad population. We would have to do a further analysis to make sure the patient age group in this dataset is indicative of that."
   ]
  },
  {
   "cell_type": "code",
   "execution_count": 6,
   "id": "8a9b26ee",
   "metadata": {},
   "outputs": [
    {
     "name": "stdout",
     "output_type": "stream",
     "text": [
      "Percentage of Female Patients: 662(49%)\n",
      "Percentage of Male Patients: 676(51%)\n"
     ]
    }
   ],
   "source": [
    "patient_info.men_vs_women()"
   ]
  },
  {
   "cell_type": "markdown",
   "id": "c6379470",
   "metadata": {},
   "source": [
    "I also wanted to check in the dataset if it was representative of an equal amount of men and women. As above, it is important to make sure it is representative of a broad range of individuals."
   ]
  },
  {
   "cell_type": "code",
   "execution_count": 7,
   "id": "8d836b94",
   "metadata": {},
   "outputs": [
    {
     "name": "stdout",
     "output_type": "stream",
     "text": [
      "Average Female BMI: 30.38\n",
      "Average Male BMI: 30.94\n"
     ]
    }
   ],
   "source": [
    "patient_info.gender_bmi_average()"
   ]
  },
  {
   "cell_type": "markdown",
   "id": "4c4dfd6b",
   "metadata": {},
   "source": [
    "As mentioned in the beginning of this project, obesity is a BMI greater than or equal to 30. According to this analysis, on average both males and females in this dataset are considered obese. The problem of excess weight is relevant. "
   ]
  },
  {
   "cell_type": "code",
   "execution_count": 8,
   "id": "e4179f8a",
   "metadata": {},
   "outputs": [
    {
     "name": "stdout",
     "output_type": "stream",
     "text": [
      "Female Smokers: 115/662(17%)\n",
      "Male Smokers: 159/676(24%)\n"
     ]
    }
   ],
   "source": [
    "patient_info.smokers_gender()"
   ]
  },
  {
   "cell_type": "markdown",
   "id": "44ff8b81",
   "metadata": {},
   "source": [
    "As you can see, in the dataset we found that 17% of females are smokers and 24% of men are smokers. Being a smoker greatly affects insurance premiums as smokers are more prone to diseases which requires more payments for treatments when ill (as well as someone with a BMI over 30.0)."
   ]
  },
  {
   "cell_type": "code",
   "execution_count": 9,
   "id": "66f4d190",
   "metadata": {},
   "outputs": [
    {
     "name": "stdout",
     "output_type": "stream",
     "text": [
      "Minimum Yearly Insurance Cost: $1121\n",
      "Average Yearly Insurance Cost: $13269.93\n",
      "None\n"
     ]
    }
   ],
   "source": [
    "print (\"Minimum Yearly Insurance Cost: $\" + str(round(min(insurance_cost))))\n",
    "print(patient_info.average_insurance_cost())"
   ]
  },
  {
   "cell_type": "markdown",
   "id": "b4bf738a",
   "metadata": {},
   "source": [
    "Lastly, you can see the yearly insurance premium is much higher than the lowest yearly insurance premium. This could be due to several factors, such as: how many children the patient has, how old the patient is, smoker vs. non-smoker, high BMI vs. low BMI, etc. \n",
    "\n",
    "In conclusion, we want to lower insurance premiums for our clients. This can be done when they client obtains insurance, as they could receive information about how their premiums will decrease if they lower their BMI to a healthy level and if they quit smoking (if they are smokers). Providing our clients with examples of how their rates will decrease by living a healthy lifestyle will encourage them to do so."
   ]
  }
 ],
 "metadata": {
  "kernelspec": {
   "display_name": "Python 3",
   "language": "python",
   "name": "python3"
  },
  "language_info": {
   "codemirror_mode": {
    "name": "ipython",
    "version": 3
   },
   "file_extension": ".py",
   "mimetype": "text/x-python",
   "name": "python",
   "nbconvert_exporter": "python",
   "pygments_lexer": "ipython3",
   "version": "3.8.8"
  }
 },
 "nbformat": 4,
 "nbformat_minor": 5
}
